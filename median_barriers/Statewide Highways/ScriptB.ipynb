{
 "cells": [
  {
   "cell_type": "code",
   "execution_count": 103,
   "metadata": {},
   "outputs": [],
   "source": [
    "import arcpy\n",
    "import time\n",
    "import os\n",
    "\n",
    "# Set start time\n",
    "start_time = time.time()\n",
    "\n",
    "# Set workspace environment\n",
    "workspace = r\"D:\\Median Barriers\\Statewide Highways\\Statewide Highways.gdb\"  # Update to local GeoDataBase path\n",
    "arcpy.env.workspace = workspace\n",
    "\n",
    "# Set project folder location\n",
    "project_folder = r\"D:\\Median Barriers\\Statewide Highways\" # Update to project folder path\n",
    "\n",
    "# Set target highway\n",
    "target_roadway = \"580\" # Update to three-digit highway ID \n",
    "\n",
    "# Output folder\n",
    "output_folder = os.path.join(project_folder, \"Output Files\") # Ensure that folder \"outputs\" exists within project folder\n",
    "\n",
    "# Input data\n",
    "roadkill_data = r\"D:\\Data\\Roadkill\\CROS-CHIPS-20240410-ND-All\\CROS-CHIPS-20240410-ND-All.shp\" # Update to roadkill data path\n",
    "excel_file = os.path.join(output_folder, \"SpatialJoinTable.xlsx\") \n",
    "spatial_join_cleaned = os.path.join(output_folder, \"CleanedSpatialJoinResult.shp\")\n",
    "output_split_line = os.path.join(output_folder, \"SplitLine.shp\")\n",
    "\n",
    "# Output data\n",
    "visual_buffer = os.path.join(workspace, \"buffer50m\")\n",
    "output_table = \"ExcelTable\"\n",
    "output_excel = os.path.join(project_folder, f\"CROS_medians_{target_roadway}.xlsx\")\n",
    "joined_roadkill_median_data = os.path.join(workspace, \"roadkill_joined\")\n",
    "cleaned_roadkill_median_data = os.path.join(workspace, \"roadkill_medians\") # Rename if use newer CROS dataset"
   ]
  },
  {
   "cell_type": "code",
   "execution_count": 104,
   "metadata": {},
   "outputs": [
    {
     "data": {
      "text/html": [
       "<div class='gpresult'><h2>Messages</h2><div id='messages' data-messages='[\"Start Time: Sunday, August 18, 2024 6:03:24 PM\",\"Succeeded at Sunday, August 18, 2024 6:03:29 PM (Elapsed Time: 5.01 seconds)\"]' data-show='true'><div id = 'default' /></div></div>"
      ],
      "text/plain": [
       "<Result 'D:\\\\Median Barriers\\\\Statewide Highways\\\\Output Files\\\\CleanedSpatialJoinResult.shp'>"
      ]
     },
     "execution_count": 104,
     "metadata": {},
     "output_type": "execute_result"
    }
   ],
   "source": [
    "# Join updated table of median pair attributes to highway feature class\n",
    "\n",
    "# Convert Excel to table\n",
    "arcpy.ExcelToTable_conversion(excel_file, output_table)\n",
    "\n",
    "# Set join key\n",
    "join_key = \"TARGET_FID\"\n",
    "\n",
    "# Perform the join\n",
    "arcpy.JoinField_management(spatial_join_cleaned, join_key, output_table, join_key) # Join using join_key"
   ]
  },
  {
   "cell_type": "code",
   "execution_count": 105,
   "metadata": {
    "scrolled": true
   },
   "outputs": [
    {
     "data": {
      "text/html": [
       "<div class='gpresult'><h2>Messages</h2><div id='messages' data-messages='[\"Start Time: Sunday, August 18, 2024 6:03:36 PM\",\"Succeeded at Sunday, August 18, 2024 6:03:51 PM (Elapsed Time: 15.17 seconds)\"]' data-show='true'><div id = 'default' /></div></div>"
      ],
      "text/plain": [
       "<Result 'D:\\\\Median Barriers\\\\Statewide Highways\\\\Statewide Highways.gdb\\\\buffer50m'>"
      ]
     },
     "execution_count": 105,
     "metadata": {},
     "output_type": "execute_result"
    }
   ],
   "source": [
    "# Prepare for Spatial Join\n",
    "\n",
    "# Make roadkill feature layer\n",
    "arcpy.management.MakeFeatureLayer(roadkill_data, \"roadkill\")\n",
    "\n",
    "# Make split line feature layer\n",
    "arcpy.management.MakeFeatureLayer(output_split_line, \"SplitLine\")\n",
    "\n",
    "# Create 50m visual buffer around selected roadway\n",
    "arcpy.analysis.Buffer(output_split_line, visual_buffer, \"50 Meters\", \"FULL\", \"FLAT\", \"ALL\", None, \"PLANAR\")"
   ]
  },
  {
   "cell_type": "code",
   "execution_count": 106,
   "metadata": {},
   "outputs": [
    {
     "data": {
      "text/html": [
       "<div class='gpresult'><h2>Messages</h2><div id='messages' data-messages='[\"Start Time: Sunday, August 18, 2024 6:03:56 PM\",\"Succeeded at Sunday, August 18, 2024 6:04:44 PM (Elapsed Time: 48.11 seconds)\"]' data-show='true'><div id = 'default' /></div></div>"
      ],
      "text/plain": [
       "<Result 'D:\\\\Median Barriers\\\\Statewide Highways\\\\Statewide Highways.gdb\\\\roadkill_joined'>"
      ]
     },
     "execution_count": 106,
     "metadata": {},
     "output_type": "execute_result"
    }
   ],
   "source": [
    "# Spatial join the highway feature class with median pair attributes to CROS roadkill data\n",
    "\n",
    "# Run the spatial join (50m intersect distance)\n",
    "arcpy.analysis.SpatialJoin(roadkill_data, spatial_join_cleaned, joined_roadkill_median_data, \"JOIN_ONE_TO_ONE\", \"KEEP_ALL\", 'nid \"nid\" true true false 20 Double 0 20,First,#,CROS-CHIPS-20240410-ND-All,nid,-1,-1;condition \"condition\" true true false 254 Text 0 0,First,#,CROS-CHIPS-20240410-ND-All,condition,0,254;username \"username\" true true false 254 Text 0 0,First,#,CROS-CHIPS-20240410-ND-All,username,0,254;animal \"animal\" true true false 254 Text 0 0,First,#,CROS-CHIPS-20240410-ND-All,animal,0,254;animal_sig \"animal_sig\" true true false 254 Text 0 0,First,#,CROS-CHIPS-20240410-ND-All,animal_sig,0,254;scientific \"scientific\" true true false 254 Text 0 0,First,#,CROS-CHIPS-20240410-ND-All,scientific,0,254;animal_wri \"animal_wri\" true true false 254 Text 0 0,First,#,CROS-CHIPS-20240410-ND-All,animal_wri,0,254;animal_cat \"animal_cat\" true true false 254 Text 0 0,First,#,CROS-CHIPS-20240410-ND-All,animal_cat,0,254;animal_gro \"animal_gro\" true true false 254 Text 0 0,First,#,CROS-CHIPS-20240410-ND-All,animal_gro,0,254;confidence \"confidence\" true true false 254 Text 0 0,First,#,CROS-CHIPS-20240410-ND-All,confidence,0,254;observatio \"observatio\" true true false 24 Text 0 0,First,#,CROS-CHIPS-20240410-ND-All,observatio,0,24;created_da \"created_da\" true true false 24 Text 0 0,First,#,CROS-CHIPS-20240410-ND-All,created_da,0,24;time_since \"time_since\" true true false 254 Text 0 0,First,#,CROS-CHIPS-20240410-ND-All,time_since,0,254;latitude \"latitude\" true true false 24 Double 15 23,First,#,CROS-CHIPS-20240410-ND-All,latitude,-1,-1,CleanedSpatialJoinResult,Latitude,-1,-1;longitude \"longitude\" true true false 24 Double 15 23,First,#,CROS-CHIPS-20240410-ND-All,longitude,-1,-1,CleanedSpatialJoinResult,Longitude,-1,-1;salvage \"salvage\" true true false 254 Text 0 0,First,#,CROS-CHIPS-20240410-ND-All,salvage,0,254;road_type \"road_type\" true true false 254 Text 0 0,First,#,CROS-CHIPS-20240410-ND-All,road_type,0,254;roadside_f \"roadside_f\" true true false 254 Text 0 0,First,#,CROS-CHIPS-20240410-ND-All,roadside_f,0,254;speed_limi \"speed_limi\" true true false 254 Text 0 0,First,#,CROS-CHIPS-20240410-ND-All,speed_limi,0,254;travel_fre \"travel_fre\" true true false 254 Text 0 0,First,#,CROS-CHIPS-20240410-ND-All,travel_fre,0,254;carcass_po \"carcass_po\" true true false 254 Text 0 0,First,#,CROS-CHIPS-20240410-ND-All,carcass_po,0,254;incorrect_ \"incorrect_\" true true false 254 Text 0 0,First,#,CROS-CHIPS-20240410-ND-All,incorrect_,0,254;observer \"observer\" true true false 254 Text 0 0,First,#,CROS-CHIPS-20240410-ND-All,observer,0,254;CROSv1_NID \"CROSv1_NID\" true true false 20 Double 0 20,First,#,CROS-CHIPS-20240410-ND-All,CROSv1_NID,-1,-1;input_meth \"input_meth\" true true false 254 Text 0 0,First,#,CROS-CHIPS-20240410-ND-All,input_meth,0,254;review_sta \"review_sta\" true true false 254 Text 0 0,First,#,CROS-CHIPS-20240410-ND-All,review_sta,0,254;verificati \"verificati\" true true false 254 Text 0 0,First,#,CROS-CHIPS-20240410-ND-All,verificati,0,254;verifica_1 \"verifica_1\" true true false 254 Text 0 0,First,#,CROS-CHIPS-20240410-ND-All,verifica_1,0,254;Image \"Image\" true true false 254 Text 0 0,First,#,CROS-CHIPS-20240410-ND-All,Image,0,254;chips_Code \"chips_Code\" true true false 20 Double 0 20,First,#,CROS-CHIPS-20240410-ND-All,chips_Code,-1,-1;chips_Numb \"chips_Numb\" true true false 10 Long 0 10,First,#,CROS-CHIPS-20240410-ND-All,chips_Numb,-1,-1;chips_Date \"chips_Date\" true true false 24 Text 0 0,First,#,CROS-CHIPS-20240410-ND-All,chips_Date,0,24;chips_Crea \"chips_Crea\" true true false 24 Text 0 0,First,#,CROS-CHIPS-20240410-ND-All,chips_Crea,0,24;chips_Area \"chips_Area\" true true false 254 Text 0 0,First,#,CROS-CHIPS-20240410-ND-All,chips_Area,0,254;chips_Type \"chips_Type\" true true false 254 Text 0 0,First,#,CROS-CHIPS-20240410-ND-All,chips_Type,0,254;chips_Stre \"chips_Stre\" true true false 254 Text 0 0,First,#,CROS-CHIPS-20240410-ND-All,chips_Stre,0,254;chips_Loca \"chips_Loca\" true true false 254 Text 0 0,First,#,CROS-CHIPS-20240410-ND-All,chips_Loca,0,254;chips_Lati \"chips_Lati\" true true false 24 Double 15 23,First,#,CROS-CHIPS-20240410-ND-All,chips_Lati,-1,-1;chips_Long \"chips_Long\" true true false 24 Double 15 23,First,#,CROS-CHIPS-20240410-ND-All,chips_Long,-1,-1;chips_Mark \"chips_Mark\" true true false 254 Text 0 0,First,#,CROS-CHIPS-20240410-ND-All,chips_Mark,0,254;chips_Anim \"chips_Anim\" true true false 254 Text 0 0,First,#,CROS-CHIPS-20240410-ND-All,chips_Anim,0,254;chips_Conf \"chips_Conf\" true true false 254 Text 0 0,First,#,CROS-CHIPS-20240410-ND-All,chips_Conf,0,254;chips_Nu_1 \"chips_Nu_1\" true true false 10 Long 0 10,First,#,CROS-CHIPS-20240410-ND-All,chips_Nu_1,-1,-1;chips_Age \"chips_Age\" true true false 254 Text 0 0,First,#,CROS-CHIPS-20240410-ND-All,chips_Age,0,254;chips_Casc \"chips_Casc\" true true false 254 Text 0 0,First,#,CROS-CHIPS-20240410-ND-All,chips_Casc,0,254;chips_An_1 \"chips_An_1\" true true false 254 Text 0 0,First,#,CROS-CHIPS-20240410-ND-All,chips_An_1,0,254;chips_Driv \"chips_Driv\" true true false 254 Text 0 0,First,#,CROS-CHIPS-20240410-ND-All,chips_Driv,0,254;chips_Nu_2 \"chips_Nu_2\" true true false 10 Long 0 10,First,#,CROS-CHIPS-20240410-ND-All,chips_Nu_2,-1,-1;chips_Attr \"chips_Attr\" true true false 254 Text 0 0,First,#,CROS-CHIPS-20240410-ND-All,chips_Attr,0,254;chips_Note \"chips_Note\" true true false 254 Text 0 0,First,#,CROS-CHIPS-20240410-ND-All,chips_Note,0,254;chips_Deta \"chips_Deta\" true true false 254 Text 0 0,First,#,CROS-CHIPS-20240410-ND-All,chips_Deta,0,254;TARGET_FID \"TARGET_FID\" true true false 10 Long 0 10,First,#,CleanedSpatialJoinResult,TARGET_FID,-1,-1;Valid_Pair \"Valid_Pair\" true true false 254 Text 0 0,First,#,CleanedSpatialJoinResult,Valid_Pair,0,254;Highway_SR \"Highway_SR\" true true false 254 Text 0 0,First,#,CleanedSpatialJoinResult,Highway_SR,0,254;FID_1 \"FID_1\" true true false 10 Long 0 10,First,#,CleanedSpatialJoinResult,FID_1,-1,-1;Join_Count \"Join_Count\" true true false 10 Long 0 10,First,#,CleanedSpatialJoinResult,Join_Count,-1,-1;TARGET_F_1 \"TARGET_F_1\" true true false 10 Long 0 10,First,#,CleanedSpatialJoinResult,TARGET_F_1,-1,-1;Id \"Id\" true true false 10 Long 0 10,First,#,CleanedSpatialJoinResult,Id,-1,-1;ORIG_FID \"ORIG_FID\" true true false 10 Long 0 10,First,#,CleanedSpatialJoinResult,ORIG_FID,-1,-1;ORIG_SEQ \"ORIG_SEQ\" true true false 10 Long 0 10,First,#,CleanedSpatialJoinResult,ORIG_SEQ,-1,-1;Pair_Name \"Pair_Name\" true true false 254 Text 0 0,First,#,CleanedSpatialJoinResult,Pair_Name,0,254;Valid_Pa_1 \"Valid_Pa_1\" true true false 254 Text 0 0,First,#,CleanedSpatialJoinResult,Valid_Pa_1,0,254;Highway__1 \"Highway__1\" true true false 254 Text 0 0,First,#,CleanedSpatialJoinResult,Highway__1,0,254;Pair_ID \"Pair_ID\" true true false 10 Long 0 10,First,#,CleanedSpatialJoinResult,Pair_ID,-1,-1;Transect_I \"Transect_I\" true true false 254 Text 0 0,First,#,CleanedSpatialJoinResult,Transect_I,0,254;Pair_Type \"Pair_Type\" true true false 254 Text 0 0,First,#,CleanedSpatialJoinResult,Pair_Type,0,254;Primary_Me \"Primary_Me\" true true false 254 Text 0 0,First,#,CleanedSpatialJoinResult,Primary_Me,0,254;Median_wid \"Median_wid\" true true false 254 Text 0 0,First,#,CleanedSpatialJoinResult,Median_wid,0,254;Secondary_ \"Secondary_\" true true false 254 Text 0 0,First,#,CleanedSpatialJoinResult,Secondary_,0,254;Notes \"Notes\" true true false 254 Text 0 0,First,#,CleanedSpatialJoinResult,Notes,0,254;Initials \"Initials\" true true false 254 Text 0 0,First,#,CleanedSpatialJoinResult,Initials,0,254;Field14 \"Field14\" true true false 254 Text 0 0,First,#,CleanedSpatialJoinResult,Field14,0,254;NEAR_FID \"NEAR_FID\" true true false 10 Long 0 10,First,#,CleanedSpatialJoinResult,NEAR_FID,-1,-1;NEAR_DIST \"NEAR_DIST\" true true false 19 Double 0 0,First,#,CleanedSpatialJoinResult,NEAR_DIST,-1,-1;NEAR_X \"NEAR_X\" true true false 19 Double 0 0,First,#,CleanedSpatialJoinResult,NEAR_X,-1,-1;NEAR_Y \"NEAR_Y\" true true false 19 Double 0 0,First,#,CleanedSpatialJoinResult,NEAR_Y,-1,-1;DDLat \"DDLat\" true true false 254 Text 0 0,First,#,CleanedSpatialJoinResult,DDLat,0,254;DDLon \"DDLon\" true true false 254 Text 0 0,First,#,CleanedSpatialJoinResult,DDLon,0,254;ORIG_OID \"ORIG_OID\" true true false 10 Long 0 10,First,#,CleanedSpatialJoinResult,ORIG_OID,-1,-1;FID_12 \"FID_12\" true true false 10 Long 0 10,First,#,CleanedSpatialJoinResult,FID_12,-1,-1;Join_Cou_1 \"Join_Cou_1\" true true false 10 Long 0 10,First,#,CleanedSpatialJoinResult,Join_Cou_1,-1,-1;TARGET_F_2 \"TARGET_F_2\" true true false 10 Long 0 10,First,#,CleanedSpatialJoinResult,TARGET_F_2,-1,-1;Id_1 \"Id_1\" true true false 10 Long 0 10,First,#,CleanedSpatialJoinResult,Id_1,-1,-1;ORIG_FID_1 \"ORIG_FID_1\" true true false 10 Long 0 10,First,#,CleanedSpatialJoinResult,ORIG_FID_1,-1,-1;ORIG_SEQ_1 \"ORIG_SEQ_1\" true true false 10 Long 0 10,First,#,CleanedSpatialJoinResult,ORIG_SEQ_1,-1,-1;Pair_Nam_1 \"Pair_Nam_1\" true true false 254 Text 0 0,First,#,CleanedSpatialJoinResult,Pair_Nam_1,0,254;Valid_Pa_2 \"Valid_Pa_2\" true true false 254 Text 0 0,First,#,CleanedSpatialJoinResult,Valid_Pa_2,0,254;Highway__2 \"Highway__2\" true true false 254 Text 0 0,First,#,CleanedSpatialJoinResult,Highway__2,0,254;Pair_ID_1 \"Pair_ID_1\" true true false 10 Long 0 10,First,#,CleanedSpatialJoinResult,Pair_ID_1,-1,-1;Transect_1 \"Transect_1\" true true false 254 Text 0 0,First,#,CleanedSpatialJoinResult,Transect_1,0,254;Pair_Typ_1 \"Pair_Typ_1\" true true false 254 Text 0 0,First,#,CleanedSpatialJoinResult,Pair_Typ_1,0,254;Primary__1 \"Primary__1\" true true false 254 Text 0 0,First,#,CleanedSpatialJoinResult,Primary__1,0,254;Median_w_1 \"Median_w_1\" true true false 254 Text 0 0,First,#,CleanedSpatialJoinResult,Median_w_1,0,254;Secondary1 \"Secondary1\" true true false 254 Text 0 0,First,#,CleanedSpatialJoinResult,Secondary1,0,254;Latitude_1 \"Latitude_1\" true true false 19 Double 0 0,First,#,CleanedSpatialJoinResult,Latitude_1,-1,-1;Longitud_1 \"Longitud_1\" true true false 19 Double 0 0,First,#,CleanedSpatialJoinResult,Longitud_1,-1,-1;Notes_1 \"Notes_1\" true true false 254 Text 0 0,First,#,CleanedSpatialJoinResult,Notes_1,0,254;Initials_1 \"Initials_1\" true true false 254 Text 0 0,First,#,CleanedSpatialJoinResult,Initials_1,0,254;Field14_1 \"Field14_1\" true true false 254 Text 0 0,First,#,CleanedSpatialJoinResult,Field14_1,0,254;NEAR_FID_1 \"NEAR_FID_1\" true true false 10 Long 0 10,First,#,CleanedSpatialJoinResult,NEAR_FID_1,-1,-1;NEAR_DIS_1 \"NEAR_DIS_1\" true true false 19 Double 0 0,First,#,CleanedSpatialJoinResult,NEAR_DIS_1,-1,-1;NEAR_X_1 \"NEAR_X_1\" true true false 19 Double 0 0,First,#,CleanedSpatialJoinResult,NEAR_X_1,-1,-1;NEAR_Y_1 \"NEAR_Y_1\" true true false 19 Double 0 0,First,#,CleanedSpatialJoinResult,NEAR_Y_1,-1,-1;DDLat_1 \"DDLat_1\" true true false 254 Text 0 0,First,#,CleanedSpatialJoinResult,DDLat_1,0,254;DDLon_1 \"DDLon_1\" true true false 254 Text 0 0,First,#,CleanedSpatialJoinResult,DDLon_1,0,254;ORIG_OID_1 \"ORIG_OID_1\" true true false 10 Long 0 10,First,#,CleanedSpatialJoinResult,ORIG_OID_1,-1,-1', \"WITHIN_A_DISTANCE\", \"50 Meters\", '')\n",
    "#arcpy.analysis.SpatialJoin(roadkill_data, spatial_join_cleaned, joined_roadkill_median_data, \"JOIN_ONE_TO_ONE\", \"KEEP_ALL\", 'nid \"nid\" true true false 20 Double 0 20,First,#,roadkill,nid,-1,-1;condition \"condition\" true true false 254 Text 0 0,First,#,roadkill,condition,0,254;username \"username\" true true false 254 Text 0 0,First,#,roadkill,username,0,254;animal \"animal\" true true false 254 Text 0 0,First,#,roadkill,animal,0,254;animal_sig \"animal_sig\" true true false 254 Text 0 0,First,#,roadkill,animal_sig,0,254;scientific \"scientific\" true true false 254 Text 0 0,First,#,roadkill,scientific,0,254;animal_wri \"animal_wri\" true true false 254 Text 0 0,First,#,roadkill,animal_wri,0,254;animal_cat \"animal_cat\" true true false 254 Text 0 0,First,#,roadkill,animal_cat,0,254;animal_gro \"animal_gro\" true true false 254 Text 0 0,First,#,roadkill,animal_gro,0,254;confidence \"confidence\" true true false 254 Text 0 0,First,#,roadkill,confidence,0,254;observatio \"observatio\" true true false 24 Text 0 0,First,#,roadkill,observatio,0,24;created_da \"created_da\" true true false 24 Text 0 0,First,#,roadkill,created_da,0,24;time_since \"time_since\" true true false 254 Text 0 0,First,#,roadkill,time_since,0,254;latitude \"latitude\" true true false 24 Double 15 23,First,#,roadkill,latitude,-1,-1,CleanedSpatialJoinResult,Latitude,-1,-1;longitude \"longitude\" true true false 24 Double 15 23,First,#,roadkill,longitude,-1,-1,CleanedSpatialJoinResult,Longitude,-1,-1;salvage \"salvage\" true true false 254 Text 0 0,First,#,roadkill,salvage,0,254;road_type \"road_type\" true true false 254 Text 0 0,First,#,roadkill,road_type,0,254;roadside_f \"roadside_f\" true true false 254 Text 0 0,First,#,roadkill,roadside_f,0,254;speed_limi \"speed_limi\" true true false 254 Text 0 0,First,#,roadkill,speed_limi,0,254;travel_fre \"travel_fre\" true true false 254 Text 0 0,First,#,roadkill,travel_fre,0,254;carcass_po \"carcass_po\" true true false 254 Text 0 0,First,#,roadkill,carcass_po,0,254;incorrect_ \"incorrect_\" true true false 254 Text 0 0,First,#,roadkill,incorrect_,0,254;observer \"observer\" true true false 254 Text 0 0,First,#,roadkill,observer,0,254;CROSv1_NID \"CROSv1_NID\" true true false 20 Double 0 20,First,#,roadkill,CROSv1_NID,-1,-1;input_meth \"input_meth\" true true false 254 Text 0 0,First,#,roadkill,input_meth,0,254;review_sta \"review_sta\" true true false 254 Text 0 0,First,#,roadkill,review_sta,0,254;verificati \"verificati\" true true false 254 Text 0 0,First,#,roadkill,verificati,0,254;verifica_1 \"verifica_1\" true true false 254 Text 0 0,First,#,roadkill,verifica_1,0,254;Image \"Image\" true true false 254 Text 0 0,First,#,roadkill,Image,0,254;chips_Code \"chips_Code\" true true false 20 Double 0 20,First,#,roadkill,chips_Code,-1,-1;chips_Numb \"chips_Numb\" true true false 10 Long 0 10,First,#,roadkill,chips_Numb,-1,-1;chips_Date \"chips_Date\" true true false 24 Text 0 0,First,#,roadkill,chips_Date,0,24;chips_Crea \"chips_Crea\" true true false 24 Text 0 0,First,#,roadkill,chips_Crea,0,24;chips_Area \"chips_Area\" true true false 254 Text 0 0,First,#,roadkill,chips_Area,0,254;chips_Type \"chips_Type\" true true false 254 Text 0 0,First,#,roadkill,chips_Type,0,254;chips_Stre \"chips_Stre\" true true false 254 Text 0 0,First,#,roadkill,chips_Stre,0,254;chips_Loca \"chips_Loca\" true true false 254 Text 0 0,First,#,roadkill,chips_Loca,0,254;chips_Lati \"chips_Lati\" true true false 24 Double 15 23,First,#,roadkill,chips_Lati,-1,-1;chips_Long \"chips_Long\" true true false 24 Double 15 23,First,#,roadkill,chips_Long,-1,-1;chips_Mark \"chips_Mark\" true true false 254 Text 0 0,First,#,roadkill,chips_Mark,0,254;chips_Anim \"chips_Anim\" true true false 254 Text 0 0,First,#,roadkill,chips_Anim,0,254;chips_Conf \"chips_Conf\" true true false 254 Text 0 0,First,#,roadkill,chips_Conf,0,254;chips_Nu_1 \"chips_Nu_1\" true true false 10 Long 0 10,First,#,roadkill,chips_Nu_1,-1,-1;chips_Age \"chips_Age\" true true false 254 Text 0 0,First,#,roadkill,chips_Age,0,254;chips_Casc \"chips_Casc\" true true false 254 Text 0 0,First,#,roadkill,chips_Casc,0,254;chips_An_1 \"chips_An_1\" true true false 254 Text 0 0,First,#,roadkill,chips_An_1,0,254;chips_Driv \"chips_Driv\" true true false 254 Text 0 0,First,#,roadkill,chips_Driv,0,254;chips_Nu_2 \"chips_Nu_2\" true true false 10 Long 0 10,First,#,roadkill,chips_Nu_2,-1,-1;chips_Attr \"chips_Attr\" true true false 254 Text 0 0,First,#,roadkill,chips_Attr,0,254;chips_Note \"chips_Note\" true true false 254 Text 0 0,First,#,roadkill,chips_Note,0,254;chips_Deta \"chips_Deta\" true true false 254 Text 0 0,First,#,roadkill,chips_Deta,0,254;TARGET_FID \"TARGET_FID\" true true false 10 Long 0 10,First,#,CleanedSpatialJoinResult,TARGET_FID,-1,-1;Valid_Pair \"Valid_Pair\" true true false 254 Text 0 0,First,#,CleanedSpatialJoinResult,Valid_Pair,0,254;Highway_SR \"Highway_SR\" true true false 10 Long 0 10,First,#,CleanedSpatialJoinResult,Highway_SR,-1,-1;New_ID \"New_ID\" true true false 254 Text 0 0,First,#,CleanedSpatialJoinResult,New_ID,0,254;Field15 \"Field15\" true true false 254 Text 0 0,First,#,CleanedSpatialJoinResult,Field15,0,254;FID_1 \"FID_1\" true true false 10 Long 0 10,First,#,CleanedSpatialJoinResult,FID_1,-1,-1;Join_Count \"Join_Count\" true true false 10 Long 0 10,First,#,CleanedSpatialJoinResult,Join_Count,-1,-1;TARGET_F_1 \"TARGET_F_1\" true true false 10 Long 0 10,First,#,CleanedSpatialJoinResult,TARGET_F_1,-1,-1;Id \"Id\" true true false 10 Long 0 10,First,#,CleanedSpatialJoinResult,Id,-1,-1;ORIG_FID \"ORIG_FID\" true true false 10 Long 0 10,First,#,CleanedSpatialJoinResult,ORIG_FID,-1,-1;ORIG_SEQ \"ORIG_SEQ\" true true false 10 Long 0 10,First,#,CleanedSpatialJoinResult,ORIG_SEQ,-1,-1;Pair_Name \"Pair_Name\" true true false 254 Text 0 0,First,#,CleanedSpatialJoinResult,Pair_Name,0,254;Valid_Pa_1 \"Valid_Pa_1\" true true false 254 Text 0 0,First,#,CleanedSpatialJoinResult,Valid_Pa_1,0,254;Highway__1 \"Highway__1\" true true false 10 Long 0 10,First,#,CleanedSpatialJoinResult,Highway__1,-1,-1;Pair_ID \"Pair_ID\" true true false 10 Long 0 10,First,#,CleanedSpatialJoinResult,Pair_ID,-1,-1;Transect_I \"Transect_I\" true true false 254 Text 0 0,First,#,CleanedSpatialJoinResult,Transect_I,0,254;New_ID_1 \"New_ID_1\" true true false 254 Text 0 0,First,#,CleanedSpatialJoinResult,New_ID_1,0,254;Pair_Type \"Pair_Type\" true true false 254 Text 0 0,First,#,CleanedSpatialJoinResult,Pair_Type,0,254;Primary_Me \"Primary_Me\" true true false 254 Text 0 0,First,#,CleanedSpatialJoinResult,Primary_Me,0,254;Median_wid \"Median_wid\" true true false 254 Text 0 0,First,#,CleanedSpatialJoinResult,Median_wid,0,254;Secondary_ \"Secondary_\" true true false 254 Text 0 0,First,#,CleanedSpatialJoinResult,Secondary_,0,254;Notes \"Notes\" true true false 254 Text 0 0,First,#,CleanedSpatialJoinResult,Notes,0,254;Initials \"Initials\" true true false 254 Text 0 0,First,#,CleanedSpatialJoinResult,Initials,0,254;Field15_1 \"Field15_1\" true true false 254 Text 0 0,First,#,CleanedSpatialJoinResult,Field15_1,0,254;NEAR_FID \"NEAR_FID\" true true false 10 Long 0 10,First,#,CleanedSpatialJoinResult,NEAR_FID,-1,-1;NEAR_DIST \"NEAR_DIST\" true true false 19 Double 0 0,First,#,CleanedSpatialJoinResult,NEAR_DIST,-1,-1;NEAR_X \"NEAR_X\" true true false 19 Double 0 0,First,#,CleanedSpatialJoinResult,NEAR_X,-1,-1;NEAR_Y \"NEAR_Y\" true true false 19 Double 0 0,First,#,CleanedSpatialJoinResult,NEAR_Y,-1,-1;DDLat \"DDLat\" true true false 254 Text 0 0,First,#,CleanedSpatialJoinResult,DDLat,0,254;DDLon \"DDLon\" true true false 254 Text 0 0,First,#,CleanedSpatialJoinResult,DDLon,0,254;ORIG_OID \"ORIG_OID\" true true false 10 Long 0 10,First,#,CleanedSpatialJoinResult,ORIG_OID,-1,-1', \"WITHIN A DISTANCE\", \"100 Meters\", '')"
   ]
  },
  {
   "cell_type": "code",
   "execution_count": 107,
   "metadata": {},
   "outputs": [],
   "source": [
    "# Select roadkill by inclusion in the spatial join\n",
    "#arcpy.management.SelectLayerByAttribute(\"roadkill_joined\", \"NEW_SELECTION\", f\"Highway__1 = '108'\", None)\n",
    "#arcpy.management.SelectLayerByAttribute(\"roadkill_joined\", \"NEW_SELECTION\", \"Highway__1 = '1'\", None)"
   ]
  },
  {
   "cell_type": "code",
   "execution_count": 108,
   "metadata": {},
   "outputs": [],
   "source": [
    "# Inspect the spatial joined roadkill observations to verify they are accurate\n",
    "\n",
    "# 1) Look through the selected roadkill observations to ensure they are in the roadway (i.e. not on side road, entrance/exit ramp)\n",
    "# 2) Note that the CROS coordinate locations are imprecise -- there may be valid observations that are slightly off the roadway\n",
    "# 3) In these cases, use your best judgement. Some observations have a roadway description under the \"road_type\" field that may help you decide\n",
    "# 4) If an roadkill observation is not within the roadway, locate it in the attribute table (Try zooming in and filtering by extent in the table)\n",
    "# 5) Record the observation attributes in the Google Sheet \"CROS_edits\" tab and note the reason for deletion, then delete the point in ArcGIS (Make sure editing is enabled) \n",
    "# 6) If an observation is in the roadway but was NOT included in the spatial join, then manually update the \"Highway__1\", \"Pair_ID\", and \"New_ID_1\" attributes\n",
    "# 7) Record the observation attributes in the Google Sheet \"CROS_edits\" tabs and note the reason for the update\n",
    "# 8) Once you're confident the observations are accurate, save your edits, clear your selection and run the cells below"
   ]
  },
  {
   "cell_type": "code",
   "execution_count": 109,
   "metadata": {},
   "outputs": [
    {
     "data": {
      "text/html": [
       "<div class='gpresult'><h2>Messages</h2><div id='messages' data-messages='[\"Start Time: Sunday, August 18, 2024 6:05:02 PM\",\"Succeeded at Sunday, August 18, 2024 6:05:06 PM (Elapsed Time: 3.41 seconds)\"]' data-show='true'><div id = 'default' /></div></div>"
      ],
      "text/plain": [
       "<Result 'D:\\\\Median Barriers\\\\Statewide Highways\\\\CROS_medians_580.xlsx'>"
      ]
     },
     "execution_count": 109,
     "metadata": {},
     "output_type": "execute_result"
    }
   ],
   "source": [
    "# Select roadkill observations by inclusion in the medians dataset\n",
    "arcpy.management.SelectLayerByAttribute(\"roadkill_joined\", \"NEW_SELECTION\", f\"Highway__1 = '{target_roadway}'\", None)\n",
    "\n",
    "# Copy selected roadkill observations to new feature class\n",
    "arcpy.management.CopyFeatures(\"roadkill_joined\", cleaned_roadkill_median_data, '', None, None, None)\n",
    "\n",
    "# Export table to Excel\n",
    "arcpy.conversion.TableToExcel(cleaned_roadkill_median_data, output_excel, \"NAME\", \"CODE\")"
   ]
  },
  {
   "cell_type": "code",
   "execution_count": 110,
   "metadata": {},
   "outputs": [
    {
     "name": "stdout",
     "output_type": "stream",
     "text": [
      "Completed successfully. Total elapsed time: 2.17 minutes.\n"
     ]
    }
   ],
   "source": [
    "# Calculate elapsed time\n",
    "elapsed_time = time.time() - start_time\n",
    "print(f\"Completed successfully. Total elapsed time: {elapsed_time/60:.2f} minutes.\")"
   ]
  }
 ],
 "metadata": {
  "kernelspec": {
   "display_name": "ArcGISPro",
   "language": "Python",
   "name": "python3"
  },
  "language_info": {
   "file_extension": ".py",
   "name": "python",
   "version": "3"
  }
 },
 "nbformat": 4,
 "nbformat_minor": 2
}
