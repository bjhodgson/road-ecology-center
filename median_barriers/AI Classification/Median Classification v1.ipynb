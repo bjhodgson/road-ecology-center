{
 "cells": [
  {
   "cell_type": "code",
   "execution_count": 4,
   "metadata": {},
   "outputs": [
    {
     "name": "stdout",
     "output_type": "stream",
     "text": [
      "Map saved as map.html\n"
     ]
    }
   ],
   "source": [
    "import folium\n",
    "\n",
    "def fetch_satellite_image(latitude, longitude, zoom=18):\n",
    "    mapbox_access_token = 'YOUR_MAPBOX_ACCESS_TOKEN'  # Replace with your Mapbox access token\n",
    "    map_osm = folium.Map(location=[latitude, longitude], zoom_start=zoom)\n",
    "\n",
    "    # Add Mapbox Satellite imagery as a tile layer\n",
    "    folium.TileLayer(\n",
    "        tiles=f\"https://api.mapbox.com/styles/v1/mapbox/satellite-v9/tiles/{{z}}/{{x}}/{{y}}?access_token={mapbox_access_token}\",\n",
    "        attr='Mapbox',\n",
    "        name='Mapbox Satellite',\n",
    "        overlay=True,\n",
    "    ).add_to(map_osm)\n",
    "\n",
    "    # Add layer control to switch between map types\n",
    "    folium.LayerControl().add_to(map_osm)\n",
    "\n",
    "    # Display the map\n",
    "    map_osm.save('map.html')\n",
    "    print(\"Map saved as map.html\")\n",
    "\n",
    "# Example usage:\n",
    "fetch_satellite_image(37.7749, -122.4194)  # Example coordinates for San Francisco\n"
   ]
  }
 ],
 "metadata": {
  "kernelspec": {
   "display_name": "Python 3",
   "language": "python",
   "name": "python3"
  },
  "language_info": {
   "codemirror_mode": {
    "name": "ipython",
    "version": 3
   },
   "file_extension": ".py",
   "mimetype": "text/x-python",
   "name": "python",
   "nbconvert_exporter": "python",
   "pygments_lexer": "ipython3",
   "version": "3.11.5"
  }
 },
 "nbformat": 4,
 "nbformat_minor": 2
}
