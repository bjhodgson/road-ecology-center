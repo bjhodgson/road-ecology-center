{
 "cells": [
  {
   "cell_type": "code",
   "execution_count": 29,
   "metadata": {},
   "outputs": [],
   "source": [
    "import arcpy\n",
    "import os\n",
    "import random\n",
    "\n",
    "# Set environment settings\n",
    "arcpy.env.workspace = r\"D:\\Median Barriers\\District 2\\District 2.gdb\"\n",
    "\n",
    "# Input feature class\n",
    "input_feature_class = \"D2_Random\"\n",
    "\n",
    "# Output KML name\n",
    "output_name = \"D2_Random\""
   ]
  },
  {
   "cell_type": "code",
   "execution_count": 30,
   "metadata": {
    "scrolled": true
   },
   "outputs": [],
   "source": [
    "# List all OBJECTID values\n",
    "objectid_list = [row[0] for row in arcpy.da.SearchCursor(input_feature_class, \"CID\")]\n",
    "#objectid_list"
   ]
  },
  {
   "cell_type": "code",
   "execution_count": 31,
   "metadata": {},
   "outputs": [],
   "source": [
    "# Shuffle the list to randomize the order\n",
    "#random.shuffle(objectid_list)\n",
    "\n",
    "# Sort the list after shuffling to order it\n",
    "#objectid_list.sort()"
   ]
  },
  {
   "cell_type": "code",
   "execution_count": 32,
   "metadata": {},
   "outputs": [],
   "source": [
    "# Split into batches of x records\n",
    "batch_size = 400\n",
    "num_batches = len(objectid_list) // batch_size + 1\n",
    "#num_batches"
   ]
  },
  {
   "cell_type": "code",
   "execution_count": 33,
   "metadata": {},
   "outputs": [
    {
     "name": "stdout",
     "output_type": "stream",
     "text": [
      "Created feature class D2_Random_1_400\n",
      "Exported D2_Random_1_400 to KML: D2_Random_1_400.kmz\n",
      "Exported D2_Random_1_400 attribute table to Excel: D2_Random_1_400.xlsx\n",
      "Created feature class D2_Random_401_800\n",
      "Exported D2_Random_401_800 to KML: D2_Random_401_800.kmz\n",
      "Exported D2_Random_401_800 attribute table to Excel: D2_Random_401_800.xlsx\n",
      "Created feature class D2_Random_801_1200\n",
      "Exported D2_Random_801_1200 to KML: D2_Random_801_1200.kmz\n",
      "Exported D2_Random_801_1200 attribute table to Excel: D2_Random_801_1200.xlsx\n",
      "Created feature class D2_Random_1201_1600\n",
      "Exported D2_Random_1201_1600 to KML: D2_Random_1201_1600.kmz\n",
      "Exported D2_Random_1201_1600 attribute table to Excel: D2_Random_1201_1600.xlsx\n",
      "Created feature class D2_Random_1601_2000\n",
      "Exported D2_Random_1601_2000 to KML: D2_Random_1601_2000.kmz\n",
      "Exported D2_Random_1601_2000 attribute table to Excel: D2_Random_1601_2000.xlsx\n",
      "Created feature class D2_Random_2001_2400\n",
      "Exported D2_Random_2001_2400 to KML: D2_Random_2001_2400.kmz\n",
      "Exported D2_Random_2001_2400 attribute table to Excel: D2_Random_2001_2400.xlsx\n",
      "Created feature class D2_Random_2401_2800\n",
      "Exported D2_Random_2401_2800 to KML: D2_Random_2401_2800.kmz\n",
      "Exported D2_Random_2401_2800 attribute table to Excel: D2_Random_2401_2800.xlsx\n",
      "Created feature class D2_Random_2801_3200\n",
      "Exported D2_Random_2801_3200 to KML: D2_Random_2801_3200.kmz\n",
      "Exported D2_Random_2801_3200 attribute table to Excel: D2_Random_2801_3200.xlsx\n",
      "Created feature class D2_Random_3201_3600\n",
      "Exported D2_Random_3201_3600 to KML: D2_Random_3201_3600.kmz\n",
      "Exported D2_Random_3201_3600 attribute table to Excel: D2_Random_3201_3600.xlsx\n",
      "Created feature class D2_Random_3601_4000\n",
      "Exported D2_Random_3601_4000 to KML: D2_Random_3601_4000.kmz\n",
      "Exported D2_Random_3601_4000 attribute table to Excel: D2_Random_3601_4000.xlsx\n"
     ]
    }
   ],
   "source": [
    "# Export batches to KML files\n",
    "for i in range(num_batches):\n",
    "    start_index = i * batch_size\n",
    "    end_index = min((i + 1) * batch_size, len(objectid_list))\n",
    "    \n",
    "    if start_index < end_index:\n",
    "        # Select subset of OBJECTID values\n",
    "        subset_objectids = objectid_list[start_index:end_index]\n",
    "        \n",
    "        # Create a query string to select features\n",
    "        query = f\"CID >= {subset_objectids[0]} AND CID <= {subset_objectids[-1]}\"\n",
    "        \n",
    "        # Create a new feature class name based on start and end OBJECTIDs\n",
    "        output_feature_class = f\"{output_name}_{subset_objectids[0]}_{subset_objectids[-1]}\"\n",
    "        \n",
    "        # Create a new feature class based on the query\n",
    "        arcpy.FeatureClassToFeatureClass_conversion(input_feature_class, arcpy.env.workspace, output_feature_class, where_clause=query)\n",
    "        \n",
    "        print(f\"Created feature class {output_feature_class}\")\n",
    "        \n",
    "        # Export to KML\n",
    "        output_kml = f\"{output_feature_class}.kmz\"\n",
    "        arcpy.conversion.LayerToKML(output_feature_class, output_kml)\n",
    "\n",
    "        print(f\"Exported {output_feature_class} to KML: {output_kml}\")\n",
    "        \n",
    "        # Export attribute table to Excel\n",
    "        output_excel = f\"{output_feature_class}.xlsx\"\n",
    "        #output_excel_path = os.path.join(output_folder, output_excel)\n",
    "        arcpy.conversion.TableToExcel(output_feature_class, output_excel)\n",
    "       \n",
    "        print(f\"Exported {output_feature_class} attribute table to Excel: {output_excel}\")\n",
    "\n",
    "        "
   ]
  }
 ],
 "metadata": {
  "kernelspec": {
   "display_name": "ArcGISPro",
   "language": "Python",
   "name": "python3"
  },
  "language_info": {
   "file_extension": ".py",
   "name": "python",
   "version": "3"
  }
 },
 "nbformat": 4,
 "nbformat_minor": 2
}
