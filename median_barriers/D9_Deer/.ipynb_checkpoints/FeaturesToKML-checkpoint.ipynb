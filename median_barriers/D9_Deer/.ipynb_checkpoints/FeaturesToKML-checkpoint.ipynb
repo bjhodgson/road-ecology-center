{
 "cells": [
  {
   "cell_type": "code",
   "execution_count": 9,
   "metadata": {},
   "outputs": [],
   "source": [
    "import arcpy\n",
    "import os\n",
    "\n",
    "# Set environment settings\n",
    "arcpy.env.workspace = r\"D:\\Median Barriers\\CROS Search\\D9.gdb\"\n",
    "\n",
    "# Input feature class\n",
    "input_feature_class = \"D9_jackrabbit_Sort\"\n",
    "\n",
    "# Output KML name\n",
    "output_name = \"D9_jackrabbit\""
   ]
  },
  {
   "cell_type": "code",
   "execution_count": 10,
   "metadata": {},
   "outputs": [],
   "source": [
    "# List all OBJECTID values\n",
    "objectid_list = [row[0] for row in arcpy.da.SearchCursor(input_feature_class, \"OBJECTID\")]\n",
    "#objectid_list"
   ]
  },
  {
   "cell_type": "code",
   "execution_count": 11,
   "metadata": {},
   "outputs": [],
   "source": [
    "# Split into batches of 800 records\n",
    "batch_size = 800\n",
    "num_batches = len(objectid_list) // batch_size + 1\n",
    "#num_batches"
   ]
  },
  {
   "cell_type": "code",
   "execution_count": 12,
   "metadata": {},
   "outputs": [
    {
     "name": "stdout",
     "output_type": "stream",
     "text": [
      "Created feature class D9_coyote_1_145\n",
      "Exported D9_coyote_1_145 to KML: D9_coyote_1_145.kmz\n"
     ]
    }
   ],
   "source": [
    "# Export batches to KML files\n",
    "for i in range(num_batches):\n",
    "    start_index = i * batch_size\n",
    "    end_index = min((i + 1) * batch_size, len(objectid_list))\n",
    "    \n",
    "    if start_index < end_index:\n",
    "        # Select subset of OBJECTID values\n",
    "        subset_objectids = objectid_list[start_index:end_index]\n",
    "        \n",
    "        # Create a query string to select features\n",
    "        query = f\"OBJECTID >= {subset_objectids[0]} AND OBJECTID <= {subset_objectids[-1]}\"\n",
    "        \n",
    "        # Create a new feature class name based on start and end OBJECTIDs\n",
    "        output_feature_class = f\"{output_name}_{subset_objectids[0]}_{subset_objectids[-1]}\"\n",
    "        \n",
    "        # Create a new feature class based on the query\n",
    "        arcpy.FeatureClassToFeatureClass_conversion(input_feature_class, arcpy.env.workspace, output_feature_class, where_clause=query)\n",
    "        \n",
    "        print(f\"Created feature class {output_feature_class}\")\n",
    "        \n",
    "        # Export to KML\n",
    "        output_kml = f\"{output_feature_class}.kmz\"\n",
    "        arcpy.conversion.LayerToKML(output_feature_class, output_kml)\n",
    "\n",
    "        print(f\"Exported {output_feature_class} to KML: {output_kml}\")\n",
    "        \n"
   ]
  }
 ],
 "metadata": {
  "kernelspec": {
   "display_name": "ArcGISPro",
   "language": "Python",
   "name": "python3"
  },
  "language_info": {
   "file_extension": ".py",
   "name": "python",
   "version": "3"
  }
 },
 "nbformat": 4,
 "nbformat_minor": 2
}
