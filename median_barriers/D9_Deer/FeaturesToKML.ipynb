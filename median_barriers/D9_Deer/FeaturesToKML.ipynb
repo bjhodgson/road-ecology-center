{
 "cells": [
  {
   "cell_type": "code",
   "execution_count": 6,
   "metadata": {},
   "outputs": [],
   "source": [
    "import arcpy\n",
    "import os\n",
    "import random\n",
    "\n",
    "# Set environment settings\n",
    "arcpy.env.workspace = r\"D:\\Median Barriers\\District 2\\District 2.gdb\"\n",
    "\n",
    "# Input feature class\n",
    "input_feature_class = \"D2_MuleDeer\"\n",
    "\n",
    "# Output KML name\n",
    "output_name = \"D2_MuleDeer\""
   ]
  },
  {
   "cell_type": "code",
   "execution_count": 7,
   "metadata": {
    "scrolled": true
   },
   "outputs": [],
   "source": [
    "# List all OBJECTID values\n",
    "objectid_list = [row[0] for row in arcpy.da.SearchCursor(input_feature_class, \"OBJECTID\")]\n",
    "#objectid_list"
   ]
  },
  {
   "cell_type": "code",
   "execution_count": 8,
   "metadata": {},
   "outputs": [],
   "source": [
    "# Shuffle the list to randomize the order\n",
    "#random.shuffle(objectid_list)\n",
    "\n",
    "# Sort the list after shuffling to order it\n",
    "#objectid_list.sort()"
   ]
  },
  {
   "cell_type": "code",
   "execution_count": 9,
   "metadata": {},
   "outputs": [],
   "source": [
    "# Split into batches of x records\n",
    "batch_size = 408\n",
    "num_batches = len(objectid_list) // batch_size + 1\n",
    "#num_batches"
   ]
  },
  {
   "cell_type": "code",
   "execution_count": 10,
   "metadata": {},
   "outputs": [
    {
     "name": "stdout",
     "output_type": "stream",
     "text": [
      "Created feature class D2_MuleDeer_1_408\n",
      "Exported D2_MuleDeer_1_408 to KML: D2_MuleDeer_1_408.kmz\n",
      "Created feature class D2_MuleDeer_409_816\n",
      "Exported D2_MuleDeer_409_816 to KML: D2_MuleDeer_409_816.kmz\n",
      "Created feature class D2_MuleDeer_817_1224\n",
      "Exported D2_MuleDeer_817_1224 to KML: D2_MuleDeer_817_1224.kmz\n",
      "Created feature class D2_MuleDeer_1225_1632\n",
      "Exported D2_MuleDeer_1225_1632 to KML: D2_MuleDeer_1225_1632.kmz\n",
      "Created feature class D2_MuleDeer_1633_2040\n",
      "Exported D2_MuleDeer_1633_2040 to KML: D2_MuleDeer_1633_2040.kmz\n",
      "Created feature class D2_MuleDeer_2041_2448\n",
      "Exported D2_MuleDeer_2041_2448 to KML: D2_MuleDeer_2041_2448.kmz\n",
      "Created feature class D2_MuleDeer_2449_2856\n",
      "Exported D2_MuleDeer_2449_2856 to KML: D2_MuleDeer_2449_2856.kmz\n",
      "Created feature class D2_MuleDeer_2857_3264\n",
      "Exported D2_MuleDeer_2857_3264 to KML: D2_MuleDeer_2857_3264.kmz\n",
      "Created feature class D2_MuleDeer_3265_3672\n",
      "Exported D2_MuleDeer_3265_3672 to KML: D2_MuleDeer_3265_3672.kmz\n",
      "Created feature class D2_MuleDeer_3673_4076\n",
      "Exported D2_MuleDeer_3673_4076 to KML: D2_MuleDeer_3673_4076.kmz\n"
     ]
    }
   ],
   "source": [
    "# Export batches to KML files\n",
    "for i in range(num_batches):\n",
    "    start_index = i * batch_size\n",
    "    end_index = min((i + 1) * batch_size, len(objectid_list))\n",
    "    \n",
    "    if start_index < end_index:\n",
    "        # Select subset of OBJECTID values\n",
    "        subset_objectids = objectid_list[start_index:end_index]\n",
    "        \n",
    "        # Create a query string to select features\n",
    "        query = f\"OBJECTID >= {subset_objectids[0]} AND OBJECTID <= {subset_objectids[-1]}\"\n",
    "        \n",
    "        # Create a new feature class name based on start and end OBJECTIDs\n",
    "        output_feature_class = f\"{output_name}_{subset_objectids[0]}_{subset_objectids[-1]}\"\n",
    "        \n",
    "        # Create a new feature class based on the query\n",
    "        arcpy.FeatureClassToFeatureClass_conversion(input_feature_class, arcpy.env.workspace, output_feature_class, where_clause=query)\n",
    "        \n",
    "        print(f\"Created feature class {output_feature_class}\")\n",
    "        \n",
    "        # Export to KML\n",
    "        output_kml = f\"{output_feature_class}.kmz\"\n",
    "        arcpy.conversion.LayerToKML(output_feature_class, output_kml)\n",
    "\n",
    "        print(f\"Exported {output_feature_class} to KML: {output_kml}\")\n",
    "        \n"
   ]
  }
 ],
 "metadata": {
  "kernelspec": {
   "display_name": "ArcGISPro",
   "language": "Python",
   "name": "python3"
  },
  "language_info": {
   "file_extension": ".py",
   "name": "python",
   "version": "3"
  }
 },
 "nbformat": 4,
 "nbformat_minor": 2
}
