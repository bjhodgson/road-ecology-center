{
 "cells": [
  {
   "cell_type": "code",
   "execution_count": 9,
   "metadata": {},
   "outputs": [],
   "source": [
    "import arcpy\n",
    "import os\n",
    "\n",
    "# Set environment settings\n",
    "arcpy.env.workspace = r\"D:\\Median Barriers\\CROS Search\\D2.gdb\"\n",
    "\n",
    "# Input feature class\n",
    "input_feature_class = \"D2_deer\"\n",
    "\n",
    "# Output KML name\n",
    "output_name = \"D2_deer\""
   ]
  },
  {
   "cell_type": "code",
   "execution_count": 7,
   "metadata": {},
   "outputs": [],
   "source": [
    "# List all OBJECTID values\n",
    "objectid_list = [row[0] for row in arcpy.da.SearchCursor(input_feature_class, \"OBJECTID\")]\n",
    "#objectid_list"
   ]
  },
  {
   "cell_type": "code",
   "execution_count": 8,
   "metadata": {},
   "outputs": [],
   "source": [
    "# Split into batches of 800 records\n",
    "batch_size = 465\n",
    "num_batches = len(objectid_list) // batch_size + 1\n",
    "#num_batches"
   ]
  },
  {
   "cell_type": "code",
   "execution_count": 10,
   "metadata": {},
   "outputs": [
    {
     "name": "stdout",
     "output_type": "stream",
     "text": [
      "Created feature class D2_deer_1_465\n",
      "Exported D2_deer_1_465 to KML: D2_deer_1_465.kmz\n",
      "Created feature class D2_deer_466_930\n",
      "Exported D2_deer_466_930 to KML: D2_deer_466_930.kmz\n",
      "Created feature class D2_deer_931_1395\n",
      "Exported D2_deer_931_1395 to KML: D2_deer_931_1395.kmz\n",
      "Created feature class D2_deer_1396_1860\n",
      "Exported D2_deer_1396_1860 to KML: D2_deer_1396_1860.kmz\n",
      "Created feature class D2_deer_1861_2325\n",
      "Exported D2_deer_1861_2325 to KML: D2_deer_1861_2325.kmz\n",
      "Created feature class D2_deer_2326_2790\n",
      "Exported D2_deer_2326_2790 to KML: D2_deer_2326_2790.kmz\n",
      "Created feature class D2_deer_2791_3255\n",
      "Exported D2_deer_2791_3255 to KML: D2_deer_2791_3255.kmz\n",
      "Created feature class D2_deer_3256_3720\n",
      "Exported D2_deer_3256_3720 to KML: D2_deer_3256_3720.kmz\n",
      "Created feature class D2_deer_3721_4185\n",
      "Exported D2_deer_3721_4185 to KML: D2_deer_3721_4185.kmz\n",
      "Created feature class D2_deer_4186_4606\n",
      "Exported D2_deer_4186_4606 to KML: D2_deer_4186_4606.kmz\n"
     ]
    }
   ],
   "source": [
    "# Export batches to KML files\n",
    "for i in range(num_batches):\n",
    "    start_index = i * batch_size\n",
    "    end_index = min((i + 1) * batch_size, len(objectid_list))\n",
    "    \n",
    "    if start_index < end_index:\n",
    "        # Select subset of OBJECTID values\n",
    "        subset_objectids = objectid_list[start_index:end_index]\n",
    "        \n",
    "        # Create a query string to select features\n",
    "        query = f\"OBJECTID >= {subset_objectids[0]} AND OBJECTID <= {subset_objectids[-1]}\"\n",
    "        \n",
    "        # Create a new feature class name based on start and end OBJECTIDs\n",
    "        output_feature_class = f\"{output_name}_{subset_objectids[0]}_{subset_objectids[-1]}\"\n",
    "        \n",
    "        # Create a new feature class based on the query\n",
    "        arcpy.FeatureClassToFeatureClass_conversion(input_feature_class, arcpy.env.workspace, output_feature_class, where_clause=query)\n",
    "        \n",
    "        print(f\"Created feature class {output_feature_class}\")\n",
    "        \n",
    "        # Export to KML\n",
    "        output_kml = f\"{output_feature_class}.kmz\"\n",
    "        arcpy.conversion.LayerToKML(output_feature_class, output_kml)\n",
    "\n",
    "        print(f\"Exported {output_feature_class} to KML: {output_kml}\")\n",
    "        \n"
   ]
  }
 ],
 "metadata": {
  "kernelspec": {
   "display_name": "ArcGISPro",
   "language": "Python",
   "name": "python3"
  },
  "language_info": {
   "file_extension": ".py",
   "name": "python",
   "version": "3"
  }
 },
 "nbformat": 4,
 "nbformat_minor": 2
}
