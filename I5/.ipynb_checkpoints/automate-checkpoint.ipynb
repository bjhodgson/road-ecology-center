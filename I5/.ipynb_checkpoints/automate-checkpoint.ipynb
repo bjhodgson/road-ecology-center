{
 "cells": [
  {
   "cell_type": "code",
   "execution_count": 2,
   "metadata": {},
   "outputs": [
    {
     "name": "stdout",
     "output_type": "stream",
     "text": [
      "Extracted files: ['mAMMIx_CONUS_HabMap_2001v1.tfw', 'mAMMIx_CONUS_HabMap_2001v1.tif', 'mAMMIx_CONUS_HabMap_2001v1.tif.aux.xml', 'mAMMIx_CONUS_HabMap_2001v1.tif.vat.dbf']\n"
     ]
    }
   ],
   "source": [
    "import zipfile\n",
    "import os\n",
    "\n",
    "# Define paths\n",
    "zip_file_path = r\"D:\\I5\\SpeciesRasters\\mAMMIx_CONUS_HabMap_2001v1.zip\"\n",
    "extracted_folder_path = r\"D:\\I5\\SpeciesRasters\\extracted_raster\"\n",
    "\n",
    "# Create the output directory if it does not exist\n",
    "os.makedirs(extracted_folder_path, exist_ok=True)\n",
    "\n",
    "# Extract the zip file\n",
    "with zipfile.ZipFile(zip_file_path, 'r') as zip_ref:\n",
    "    zip_ref.extractall(extracted_folder_path)\n",
    "\n",
    "# List extracted files to verify\n",
    "extracted_files = os.listdir(extracted_folder_path)\n",
    "print(\"Extracted files:\", extracted_files)\n"
   ]
  },
  {
   "cell_type": "code",
   "execution_count": 5,
   "metadata": {},
   "outputs": [
    {
     "name": "stdout",
     "output_type": "stream",
     "text": [
      "Zonal statistics table created successfully: D:\\I5\\SpeciesRasters\\zonal_stats_table.dbf\n"
     ]
    }
   ],
   "source": [
    "import arcpy\n",
    "\n",
    "# Define file paths\n",
    "shapefile_path = r\"D:\\I5\\Ecoregions\\I5_ecoregions\\I5_Ecoregions1mile_6350.shp\"\n",
    "raster_path = r\"D:\\I5\\SpeciesRasters\\extracted_raster\\mAMMIx_CONUS_HabMap_2001v1.tif\"\n",
    "output_table_path = r\"D:\\I5\\SpeciesRasters\\zonal_stats_table.dbf\"\n",
    "\n",
    "# Set the environment to overwrite existing outputs\n",
    "arcpy.env.overwriteOutput = True\n",
    "\n",
    "# Check if the input files exist\n",
    "if not arcpy.Exists(shapefile_path):\n",
    "    print(f\"Shapefile not found: {shapefile_path}\")\n",
    "elif not arcpy.Exists(raster_path):\n",
    "    print(f\"Raster file not found: {raster_path}\")\n",
    "else:\n",
    "    # Perform Zonal Statistics as Table\n",
    "    try:\n",
    "        arcpy.sa.ZonalStatisticsAsTable(\n",
    "            in_zone_data=shapefile_path,\n",
    "            zone_field=\"US_L3NAME\",  # Replace with the appropriate field if not using FID\n",
    "            in_value_raster=raster_path,\n",
    "            out_table=output_table_path,\n",
    "            ignore_nodata=\"DATA\",\n",
    "            statistics_type=\"ALL\"  # Can specify 'MEAN', 'SUM', etc., or 'ALL' for all statistics\n",
    "        )\n",
    "        print(f\"Zonal statistics table created successfully: {output_table_path}\")\n",
    "    except arcpy.ExecuteError as e:\n",
    "        print(f\"Failed to perform zonal statistics: {e}\")\n"
   ]
  }
 ],
 "metadata": {
  "kernelspec": {
   "display_name": "ArcGISPro",
   "language": "Python",
   "name": "python3"
  },
  "language_info": {
   "file_extension": ".py",
   "name": "python",
   "version": "3"
  }
 },
 "nbformat": 4,
 "nbformat_minor": 2
}
